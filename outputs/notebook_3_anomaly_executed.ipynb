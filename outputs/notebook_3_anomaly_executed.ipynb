{
 "cells": [
  {
   "cell_type": "code",
   "execution_count": 1,
   "id": "1a03c73b",
   "metadata": {
    "execution": {
     "iopub.execute_input": "2025-10-17T07:53:43.353951Z",
     "iopub.status.busy": "2025-10-17T07:53:43.353533Z",
     "iopub.status.idle": "2025-10-17T07:53:43.357876Z",
     "shell.execute_reply": "2025-10-17T07:53:43.357361Z"
    },
    "papermill": {
     "duration": 0.008368,
     "end_time": "2025-10-17T07:53:43.358956",
     "exception": false,
     "start_time": "2025-10-17T07:53:43.350588",
     "status": "completed"
    },
    "tags": [
     "injected-parameters"
    ]
   },
   "outputs": [],
   "source": [
    "# Parameters\n",
    "image_path = \"C:\\\\Users\\\\Administrator\\\\Desktop\\\\PID_PROJECT\\\\data\\\\test\\\\images\\\\test_pid.png\"\n",
    "outputs_dir = \"C:\\\\Users\\\\Administrator\\\\Desktop\\\\PID_PROJECT\\\\outputs\"\n",
    "data_dir = \"C:\\\\Users\\\\Administrator\\\\Desktop\\\\PID_PROJECT\\\\data\\\\dummy\"\n"
   ]
  },
  {
   "cell_type": "code",
   "execution_count": 2,
   "id": "7abcc121",
   "metadata": {
    "execution": {
     "iopub.execute_input": "2025-10-17T07:53:43.362885Z",
     "iopub.status.busy": "2025-10-17T07:53:43.362576Z",
     "iopub.status.idle": "2025-10-17T07:53:43.727880Z",
     "shell.execute_reply": "2025-10-17T07:53:43.727423Z"
    },
    "papermill": {
     "duration": 0.368334,
     "end_time": "2025-10-17T07:53:43.728929",
     "exception": false,
     "start_time": "2025-10-17T07:53:43.360595",
     "status": "completed"
    },
    "tags": []
   },
   "outputs": [],
   "source": [
    "import json\n",
    "import pandas as pd\n",
    "from pathlib import Path"
   ]
  },
  {
   "cell_type": "code",
   "execution_count": 3,
   "id": "84305845",
   "metadata": {
    "execution": {
     "iopub.execute_input": "2025-10-17T07:53:43.732053Z",
     "iopub.status.busy": "2025-10-17T07:53:43.731756Z",
     "iopub.status.idle": "2025-10-17T07:53:43.735247Z",
     "shell.execute_reply": "2025-10-17T07:53:43.734907Z"
    },
    "papermill": {
     "duration": 0.005687,
     "end_time": "2025-10-17T07:53:43.735949",
     "exception": false,
     "start_time": "2025-10-17T07:53:43.730262",
     "status": "completed"
    },
    "tags": []
   },
   "outputs": [],
   "source": [
    "outputs_dir = Path(outputs_dir)\n",
    "data_dir = Path(data_dir)\n",
    "\n",
    "readings_path   = data_dir / \"values.json\"\n",
    "thresholds_path = data_dir / \"threshold.json\"\n",
    "anomalies_path  = outputs_dir / \"anomalies.json\"\n",
    "\n",
    "with open(readings_path, encoding=\"utf-8\") as f:\n",
    "    readings = json.load(f)\n",
    "\n",
    "with open(thresholds_path, \"r\", encoding=\"utf-8\") as f:\n",
    "    thresholds = json.load(f)\n"
   ]
  },
  {
   "cell_type": "code",
   "execution_count": 4,
   "id": "035864c0",
   "metadata": {
    "execution": {
     "iopub.execute_input": "2025-10-17T07:53:43.738599Z",
     "iopub.status.busy": "2025-10-17T07:53:43.738352Z",
     "iopub.status.idle": "2025-10-17T07:53:43.748466Z",
     "shell.execute_reply": "2025-10-17T07:53:43.747989Z"
    },
    "papermill": {
     "duration": 0.012424,
     "end_time": "2025-10-17T07:53:43.749392",
     "exception": false,
     "start_time": "2025-10-17T07:53:43.736968",
     "status": "completed"
    },
    "tags": []
   },
   "outputs": [],
   "source": [
    "readings_df = pd.json_normalize(readings[\"pressure_readings\"])\n",
    "\n",
    "readings_df[\"timestamp\"] = pd.to_datetime(readings_df[\"timestamp\"])\n",
    "\n",
    "thr_records = []\n",
    "for k, v in thresholds[\"pressure_thresholds\"].items():\n",
    "    row = {\"component\": k, **v}\n",
    "    thr_records.append(row)\n",
    "thresholds_df = pd.DataFrame(thr_records)\n",
    "\n",
    "alerts = [] \n",
    "\n",
    "# map thresholds\n",
    "thr_map = {\n",
    "    row[\"component\"]: {\"min\": row[\"min\"], \"max\": row[\"max\"], \"units\": row[\"units\"]}\n",
    "    for _, row in thresholds_df.iterrows()\n",
    "}\n",
    "\n",
    "components = [c for c in readings_df.columns if c != \"timestamp\"]\n",
    "\n",
    "for _, row in readings_df.sort_values(\"timestamp\").iterrows():\n",
    "    ts = row[\"timestamp\"].isoformat()\n",
    "    for comp in components:\n",
    "        val = float(row[comp])\n",
    "        min_v = thr_map[comp][\"min\"]\n",
    "        max_v = thr_map[comp][\"max\"]\n",
    "        units = thr_map[comp][\"units\"]\n",
    "        if not (min_v <= val <= max_v):\n",
    "            alerts.append({\n",
    "                \"component\": comp,\n",
    "                \"observed_value\": val,\n",
    "                \"timestamp\": ts,\n",
    "                \"expected_range\": f\"{min_v} - {max_v} {units}\"\n",
    "            })\n",
    "\n",
    "alerts_df = pd.DataFrame(alerts)\n",
    "\n",
    "with open(anomalies_path, \"w\", encoding=\"utf-8\") as f:\n",
    "    json.dump(alerts, f, indent=2, ensure_ascii=False)"
   ]
  }
 ],
 "metadata": {
  "kernelspec": {
   "display_name": ".venv",
   "language": "python",
   "name": "python3"
  },
  "language_info": {
   "codemirror_mode": {
    "name": "ipython",
    "version": 3
   },
   "file_extension": ".py",
   "mimetype": "text/x-python",
   "name": "python",
   "nbconvert_exporter": "python",
   "pygments_lexer": "ipython3",
   "version": "3.13.7"
  },
  "papermill": {
   "default_parameters": {},
   "duration": 5.112818,
   "end_time": "2025-10-17T07:53:47.182887",
   "environment_variables": {},
   "exception": null,
   "input_path": "C:\\Users\\Administrator\\Desktop\\PID_PROJECT\\notebooks\\notebook_3_anomaly.ipynb",
   "output_path": "C:\\Users\\Administrator\\Desktop\\PID_PROJECT\\outputs\\notebook_3_anomaly_executed.ipynb",
   "parameters": {
    "data_dir": "C:\\Users\\Administrator\\Desktop\\PID_PROJECT\\data\\dummy",
    "image_path": "C:\\Users\\Administrator\\Desktop\\PID_PROJECT\\data\\test\\images\\test_pid.png",
    "outputs_dir": "C:\\Users\\Administrator\\Desktop\\PID_PROJECT\\outputs"
   },
   "start_time": "2025-10-17T07:53:42.070069",
   "version": "2.6.0"
  }
 },
 "nbformat": 4,
 "nbformat_minor": 5
}