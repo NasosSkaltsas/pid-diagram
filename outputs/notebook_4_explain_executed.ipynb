{
 "cells": [
  {
   "cell_type": "code",
   "execution_count": 1,
   "id": "9d8be451",
   "metadata": {
    "execution": {
     "iopub.execute_input": "2025-10-17T07:53:48.491352Z",
     "iopub.status.busy": "2025-10-17T07:53:48.490972Z",
     "iopub.status.idle": "2025-10-17T07:53:48.495219Z",
     "shell.execute_reply": "2025-10-17T07:53:48.494631Z"
    },
    "papermill": {
     "duration": 0.008283,
     "end_time": "2025-10-17T07:53:48.496411",
     "exception": false,
     "start_time": "2025-10-17T07:53:48.488128",
     "status": "completed"
    },
    "tags": [
     "injected-parameters"
    ]
   },
   "outputs": [],
   "source": [
    "# Parameters\n",
    "image_path = \"C:\\\\Users\\\\Administrator\\\\Desktop\\\\PID_PROJECT\\\\data\\\\test\\\\images\\\\test_pid.png\"\n",
    "outputs_dir = \"C:\\\\Users\\\\Administrator\\\\Desktop\\\\PID_PROJECT\\\\outputs\"\n",
    "data_dir = \"C:\\\\Users\\\\Administrator\\\\Desktop\\\\PID_PROJECT\\\\data\\\\dummy\"\n"
   ]
  },
  {
   "cell_type": "code",
   "execution_count": 2,
   "id": "b6801cc0",
   "metadata": {
    "execution": {
     "iopub.execute_input": "2025-10-17T07:53:48.500945Z",
     "iopub.status.busy": "2025-10-17T07:53:48.500540Z",
     "iopub.status.idle": "2025-10-17T07:53:49.645569Z",
     "shell.execute_reply": "2025-10-17T07:53:49.645057Z"
    },
    "papermill": {
     "duration": 1.148213,
     "end_time": "2025-10-17T07:53:49.646594",
     "exception": false,
     "start_time": "2025-10-17T07:53:48.498381",
     "status": "completed"
    },
    "tags": []
   },
   "outputs": [],
   "source": [
    "from google import genai\n",
    "import os\n",
    "from dotenv import load_dotenv\n",
    "import json\n",
    "from pathlib import Path\n",
    "load_dotenv()\n",
    "client = genai.Client(api_key=os.getenv('GOOGLEAI_API_KEY'))"
   ]
  },
  {
   "cell_type": "code",
   "execution_count": 3,
   "id": "76ab697b",
   "metadata": {
    "execution": {
     "iopub.execute_input": "2025-10-17T07:53:49.652181Z",
     "iopub.status.busy": "2025-10-17T07:53:49.651748Z",
     "iopub.status.idle": "2025-10-17T07:53:49.659563Z",
     "shell.execute_reply": "2025-10-17T07:53:49.659135Z"
    },
    "papermill": {
     "duration": 0.011939,
     "end_time": "2025-10-17T07:53:49.660535",
     "exception": false,
     "start_time": "2025-10-17T07:53:49.648596",
     "status": "completed"
    },
    "tags": []
   },
   "outputs": [],
   "source": [
    "outputs_dir = Path(outputs_dir)\n",
    "data_dir = Path(data_dir)\n",
    "\n",
    "readings_path   = data_dir / \"values.json\"\n",
    "thresholds_path = data_dir / \"threshold.json\"\n",
    "anomalies_path  = outputs_dir / \"anomalies.json\"\n",
    "path_edges_path = outputs_dir / \"path_edges.json\"\n",
    "components_path = outputs_dir / \"components.json\"\n",
    "\n",
    "with open(readings_path, encoding=\"utf-8\") as f:\n",
    "    readings = json.load(f)\n",
    "with open(thresholds_path, encoding=\"utf-8\") as f:\n",
    "    thresholds = json.load(f)\n",
    "with open(anomalies_path,  encoding=\"utf-8\") as f:\n",
    "    anomalies = json.load(f)\n",
    "with open(path_edges_path, encoding=\"utf-8\") as f:\n",
    "    path_edges = json.load(f)\n",
    "with open(components_path, encoding=\"utf-8\") as f:\n",
    "    components = json.load(f)"
   ]
  },
  {
   "cell_type": "code",
   "execution_count": 4,
   "id": "b54f6f5b",
   "metadata": {
    "execution": {
     "iopub.execute_input": "2025-10-17T07:53:49.664039Z",
     "iopub.status.busy": "2025-10-17T07:53:49.663661Z",
     "iopub.status.idle": "2025-10-17T07:53:49.667032Z",
     "shell.execute_reply": "2025-10-17T07:53:49.666543Z"
    },
    "papermill": {
     "duration": 0.005986,
     "end_time": "2025-10-17T07:53:49.667875",
     "exception": false,
     "start_time": "2025-10-17T07:53:49.661889",
     "status": "completed"
    },
    "tags": []
   },
   "outputs": [],
   "source": [
    "prompt = f\"\"\"\n",
    "You are a PID system diagnostics assistant.\n",
    "\n",
    "Components of the PID system (they are connected with pipes):\n",
    "{json.dumps(components)}\n",
    "Network/connection of components of the PID system:\n",
    "{json.dumps(path_edges)}\n",
    "Anomalies detected:\n",
    "{json.dumps(anomalies)}\n",
    "\n",
    "Task:\n",
    "1. Summarize the system: list components and connections.\n",
    "2. Describe the anomaly detected.\n",
    "3. Explain potential root causes using nearby components. (max 2 reasons)\n",
    "4. Recommend inspection or remediation steps. (max 2 recommendations, keep it simple and clear)\n",
    "\n",
    "Return only plain text.\n",
    "\"\"\""
   ]
  },
  {
   "cell_type": "code",
   "execution_count": 5,
   "id": "dce24301",
   "metadata": {
    "execution": {
     "iopub.execute_input": "2025-10-17T07:53:49.671197Z",
     "iopub.status.busy": "2025-10-17T07:53:49.670902Z",
     "iopub.status.idle": "2025-10-17T07:53:59.518151Z",
     "shell.execute_reply": "2025-10-17T07:53:59.517342Z"
    },
    "papermill": {
     "duration": 9.849948,
     "end_time": "2025-10-17T07:53:59.519206",
     "exception": false,
     "start_time": "2025-10-17T07:53:49.669258",
     "status": "completed"
    },
    "tags": []
   },
   "outputs": [
    {
     "name": "stdout",
     "output_type": "stream",
     "text": [
      "System Summary:\n",
      "Components:\n",
      "*   pressure indicator: S15002, S15006\n",
      "*   valve: V15002, V15011, V15028, V15029\n",
      "Connections:\n",
      "*   V15002 is connected to S15002\n",
      "*   S15002 is connected to V15011\n",
      "*   V15011 is connected to V15028\n",
      "*   V15028 is connected to S15006\n",
      "*   S15006 is connected to V15029\n",
      "\n",
      "Anomaly Detected:\n",
      "The pressure indicator S15006 reported an observed value of 498.7 psi at 2025-10-15T10:13:00+00:00. This reading is significantly higher than its expected operational range of 101.0 - 104.0 psi.\n",
      "\n",
      "Potential Root Causes:\n",
      "1.  **Sensor Malfunction:** The pressure indicator S15006 itself may be faulty or out of calibration, leading to an inaccurately high pressure reading.\n",
      "2.  **Valve Malfunction:** The upstream valve V15028 could be malfunctioning (e.g., stuck open or partially open), allowing excessive pressure to flow to S15006, or the downstream valve V15029 might be partially or fully closed, creating a pressure buildup at S15006.\n",
      "\n",
      "Recommended Inspection/Remediation Steps:\n",
      "1.  Inspect and recalibrate or replace the pressure indicator S15006 to confirm its accuracy.\n",
      "2.  Check and test the functionality and position of valves V15028 and V15029, and adjust as necessary to ensure proper pressure regulation.\n"
     ]
    }
   ],
   "source": [
    "# Generate diagnosis\n",
    "response = client.models.generate_content(\n",
    "    model='gemini-2.5-flash',\n",
    "    contents=prompt\n",
    ")\n",
    "(outputs_dir / \"diagnosis.md\").write_text(f\"# Diagnosis\\n\\n{response.text}\\n\", encoding=\"utf-8\")\n",
    "print(response.text)\n"
   ]
  }
 ],
 "metadata": {
  "kernelspec": {
   "display_name": ".venv",
   "language": "python",
   "name": "python3"
  },
  "language_info": {
   "codemirror_mode": {
    "name": "ipython",
    "version": 3
   },
   "file_extension": ".py",
   "mimetype": "text/x-python",
   "name": "python",
   "nbconvert_exporter": "python",
   "pygments_lexer": "ipython3",
   "version": "3.13.7"
  },
  "papermill": {
   "default_parameters": {},
   "duration": 12.752392,
   "end_time": "2025-10-17T07:53:59.972342",
   "environment_variables": {},
   "exception": null,
   "input_path": "C:\\Users\\Administrator\\Desktop\\PID_PROJECT\\notebooks\\notebook_4_explain.ipynb",
   "output_path": "C:\\Users\\Administrator\\Desktop\\PID_PROJECT\\outputs\\notebook_4_explain_executed.ipynb",
   "parameters": {
    "data_dir": "C:\\Users\\Administrator\\Desktop\\PID_PROJECT\\data\\dummy",
    "image_path": "C:\\Users\\Administrator\\Desktop\\PID_PROJECT\\data\\test\\images\\test_pid.png",
    "outputs_dir": "C:\\Users\\Administrator\\Desktop\\PID_PROJECT\\outputs"
   },
   "start_time": "2025-10-17T07:53:47.219950",
   "version": "2.6.0"
  }
 },
 "nbformat": 4,
 "nbformat_minor": 5
}