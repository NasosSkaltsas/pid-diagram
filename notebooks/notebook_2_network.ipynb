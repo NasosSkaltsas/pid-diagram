{
 "cells": [
  {
   "cell_type": "code",
   "execution_count": null,
   "id": "886c7f56",
   "metadata": {},
   "outputs": [],
   "source": [
    "import pandas as pd\n",
    "from pathlib import Path\n",
    "import numpy as np\n",
    "import networkx as nx\n",
    "import json\n",
    "import sys\n",
    "sys.path.append('..')\n",
    "from functions.functions_LLM import *"
   ]
  },
  {
   "cell_type": "markdown",
   "id": "bd087d34",
   "metadata": {},
   "source": [
    "## Understand how the symbols are connected via network"
   ]
  },
  {
   "cell_type": "code",
   "execution_count": null,
   "id": "07feacd0",
   "metadata": {},
   "outputs": [],
   "source": [
    "outputs_dir = Path(outputs_dir)\n",
    "\n",
    "# --- Load detections from Notebook 1 ---\n",
    "det_csv = outputs_dir / \"detections\" / \"test_pid_detections.csv\"\n",
    "\n",
    "df = pd.read_csv(det_csv)\n",
    "\n",
    "# Sort from bottom-right → top-left (used for start node AND tie-breaks)\n",
    "df_sorted = df.sort_values(by=['cy', 'cx'], ascending=[False, False]).reset_index(drop=True)\n",
    "\n",
    "# Assign node IDs (if you want them)\n",
    "df_sorted['node_id'] = [f\"{r.label}_{i}\" for i, r in df_sorted.iterrows()]\n",
    "\n",
    "# --- Greedy nearest-neighbor chaining with tie-break by df_sorted order ---\n",
    "coords = df_sorted[['cx', 'cy']].to_numpy(dtype=float)\n",
    "n = len(coords)\n",
    "\n",
    "order = -np.ones(n, dtype=int)\n",
    "visited = np.zeros(n, dtype=bool)\n",
    "priority = np.arange(n)  # tie-break priority: earlier in df_sorted wins\n",
    "tol = 1e-12              # numeric tolerance for distance ties\n",
    "\n",
    "# Start at bottom-right (the first row after our sort)\n",
    "current = 0\n",
    "visited[current] = True\n",
    "order[current] = 0\n",
    "\n",
    "for k in range(1, n):\n",
    "    remaining_mask = ~visited\n",
    "    remaining_idx = np.flatnonzero(remaining_mask)\n",
    "    \n",
    "    # Squared Euclidean distances\n",
    "    d2 = np.sum((coords[remaining_mask] - coords[current])**2, axis=1)\n",
    "    min_d2 = d2.min()\n",
    "    \n",
    "    # minimum distance\n",
    "    candidate_pos = np.where(np.isclose(d2, min_d2, rtol=0, atol=tol))[0]\n",
    "    candidate_global_idx = remaining_idx[candidate_pos]\n",
    "    \n",
    "    # Tie-break by original order\n",
    "    next_idx = candidate_global_idx[np.argmin(priority[candidate_global_idx])]\n",
    "    \n",
    "    current = next_idx\n",
    "    visited[current] = True\n",
    "    order[current] = k\n",
    "\n",
    "df_ordered = df_sorted.copy()\n",
    "df_ordered['order'] = order\n",
    "df_ordered = df_ordered.sort_values('order').reset_index(drop=True)\n",
    "\n",
    "G = nx.DiGraph()\n",
    "G.add_nodes_from(df_ordered['name_ocr_clean'])\n",
    "path_edges = list(zip(df_ordered['name_ocr_clean'][:-1], df_ordered['name_ocr_clean'][1:]))\n",
    "G.add_edges_from(path_edges)\n",
    "\n",
    "df_ordered['label'] = df_ordered['label'].replace({'pressure': 'pressure indicator'})\n"
   ]
  },
  {
   "cell_type": "code",
   "execution_count": null,
   "id": "5ef9a173",
   "metadata": {},
   "outputs": [
    {
     "name": "stderr",
     "output_type": "stream",
     "text": [
      "<>:2: SyntaxWarning: invalid escape sequence '\\o'\n",
      "<>:7: SyntaxWarning: invalid escape sequence '\\o'\n",
      "<>:2: SyntaxWarning: invalid escape sequence '\\o'\n",
      "<>:7: SyntaxWarning: invalid escape sequence '\\o'\n",
      "C:\\Users\\Administrator\\AppData\\Local\\Temp\\ipykernel_2780\\1926388262.py:2: SyntaxWarning: invalid escape sequence '\\o'\n",
      "  with open('..\\outputs\\path_edges.json', 'w') as f:\n",
      "C:\\Users\\Administrator\\AppData\\Local\\Temp\\ipykernel_2780\\1926388262.py:7: SyntaxWarning: invalid escape sequence '\\o'\n",
      "  with open(\"..\\outputs\\components.json\", \"w\", encoding=\"utf-8\") as f:\n"
     ]
    }
   ],
   "source": [
    "# Save as JSON \n",
    "with open(outputs_dir / \"path_edges.json\", \"w\", encoding=\"utf-8\") as f:\n",
    "    json.dump([list(edge) for edge in path_edges], f, indent=4)\n",
    "\n",
    "json_data = df_ordered.groupby(\"label\")[\"name_ocr_clean\"].apply(list).to_dict()\n",
    "\n",
    "with open(outputs_dir / \"components.json\", \"w\", encoding=\"utf-8\") as f:\n",
    "    json.dump(json_data, f, ensure_ascii=False, indent=2)\n"
   ]
  }
 ],
 "metadata": {
  "kernelspec": {
   "display_name": ".venv",
   "language": "python",
   "name": "python3"
  },
  "language_info": {
   "codemirror_mode": {
    "name": "ipython",
    "version": 3
   },
   "file_extension": ".py",
   "mimetype": "text/x-python",
   "name": "python",
   "nbconvert_exporter": "python",
   "pygments_lexer": "ipython3",
   "version": "3.13.7"
  }
 },
 "nbformat": 4,
 "nbformat_minor": 5
}
