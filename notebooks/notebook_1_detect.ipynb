{
 "cells": [
  {
   "cell_type": "code",
   "execution_count": null,
   "id": "c76fb620",
   "metadata": {},
   "outputs": [],
   "source": [
    "import os\n",
    "from pathlib import Path\n",
    "from ultralytics import YOLO\n",
    "from functions.functions_OCR import *\n",
    "import sys\n",
    "sys.path.append('..')\n",
    "\n",
    "pytesseract.pytesseract.tesseract_cmd = r\"C:\\venv\\tesseract.exe\"\n",
    "\n",
    "outputs_dir = Path(outputs_dir)\n",
    "detections_dir = outputs_dir / \"detections\"\n",
    "detections_dir.mkdir(parents=True, exist_ok=True)\n",
    "\n"
   ]
  },
  {
   "cell_type": "markdown",
   "id": "ac8de16a",
   "metadata": {},
   "source": [
    "## 1. Use YOLO to identify PID symbols"
   ]
  },
  {
   "cell_type": "code",
   "execution_count": 8,
   "id": "9affab35",
   "metadata": {},
   "outputs": [],
   "source": [
    "# 1) Choose an image to process\n",
    "# image_path = r'C:\\Users\\Administrator\\Desktop\\PID_PROJECT\\data\\test\\images\\test_pid.png'  # <-- test image\n",
    "image_path = image_path  # Papermill \n",
    "\n",
    "img = cv2.imread(image_path)"
   ]
  },
  {
   "cell_type": "code",
   "execution_count": 9,
   "id": "745f45ee",
   "metadata": {},
   "outputs": [],
   "source": [
    "# 2) Load model\n",
    "model = YOLO('../models/pid_yolo.pt')  # from notebook_CV\n",
    "\n",
    "# 3) Predict\n",
    "results = model.predict(source=image_path, imgsz=640, conf=0.1, verbose=False)[0]\n",
    "\n",
    "# 4) Build detections dataframe\n",
    "rows = []\n",
    "for b in results.boxes:\n",
    "    cls_id = int(b.cls.item())\n",
    "    conf   = float(b.conf.item())\n",
    "    x1, y1, x2, y2 = map(float, b.xyxy[0].tolist())\n",
    "    label = results.names[cls_id]\n",
    "    cx, cy = (x1+x2)/2.0, (y1+y2)/2.0\n",
    "    rows.append(dict(label=label, conf=conf, x1=x1, y1=y1, x2=x2, y2=y2, cx=cx, cy=cy))\n",
    "\n",
    "df_det = pd.DataFrame(rows)"
   ]
  },
  {
   "cell_type": "markdown",
   "id": "10a65bb0",
   "metadata": {},
   "source": [
    "## OCR for detecting name near PID symbols"
   ]
  },
  {
   "cell_type": "code",
   "execution_count": 10,
   "id": "2a0b694d",
   "metadata": {},
   "outputs": [],
   "source": [
    "for r in rows:\n",
    "    text, conf = read_tag_near_point(img, int(r[\"cx\"]), int(r[\"cy\"]), pad=83)\n",
    "    r[\"name_ocr\"] = text\n",
    "\n",
    "df_det = pd.DataFrame(rows)"
   ]
  },
  {
   "cell_type": "markdown",
   "id": "087c5741",
   "metadata": {},
   "source": [
    "## Corrections for OCR, will be replaced with an LLM"
   ]
  },
  {
   "cell_type": "code",
   "execution_count": 11,
   "id": "c4b837d3",
   "metadata": {},
   "outputs": [],
   "source": [
    "# This will be later automated with an LLM, check functions_LLM\n",
    "# df_after_llm = clean_pid_names_llm(df_det)\n",
    "\n",
    "# Define OCR correction mapping\n",
    "ocr_corrections = str.maketrans({\n",
    "    'I': '1', 'l': '1',\n",
    "    'O': '0', 'o': '0',\n",
    "    'S': '5', 's': '5',\n",
    "    'B': '8', 'G': '6'\n",
    "})\n",
    "\n",
    "def clean_name(row):\n",
    "    name = row['name_ocr']\n",
    "    \n",
    "    # Fix OCR errors and keep only alphanumerics\n",
    "    corrected = name.translate(ocr_corrections)\n",
    "    corrected = re.sub(r'[^A-Za-z0-9]', '', corrected)\n",
    "    \n",
    "    # Replace first char based on label\n",
    "    if row['label'] == 'valve':\n",
    "        corrected = 'V' + corrected[1:]\n",
    "    elif 'pressure' in row['label']:\n",
    "        corrected = 'S' + corrected[1:]\n",
    "    \n",
    "    # Keep only 6 characters\n",
    "    return corrected[:6]\n",
    "\n",
    "df_det['name_ocr_clean'] = df_det.apply(clean_name, axis=1)"
   ]
  },
  {
   "cell_type": "code",
   "execution_count": null,
   "id": "c9c9b5dc",
   "metadata": {},
   "outputs": [],
   "source": [
    "annot = img.copy()\n",
    "for r in rows:\n",
    "    x1,y1,x2,y2 = map(int, [r['x1'], r['y1'], r['x2'], r['y2']])\n",
    "    cv2.rectangle(annot, (x1,y1), (x2,y2), (0,255,0), 2)\n",
    "    cv2.putText(annot, f\"{r['label']} {r['conf']:.2f}\", (x1, max(0,y1-5)),\n",
    "                cv2.FONT_HERSHEY_SIMPLEX, 0.5, (0,255,0), 1, cv2.LINE_AA)\n",
    "\n",
    "\n",
    "base = Path(image_path).stem\n",
    "\n",
    "base = os.path.basename(image_path).rsplit('.',1)[0]\n",
    "# 5) Save detections for next notebooks\n",
    "cv2.imwrite(str(detections_dir / f\"{base}_annotated.png\"), annot)\n",
    "df_det.to_csv(detections_dir / f\"{base}_detections.csv\", index=False)"
   ]
  }
 ],
 "metadata": {
  "kernelspec": {
   "display_name": ".venv",
   "language": "python",
   "name": "python3"
  },
  "language_info": {
   "codemirror_mode": {
    "name": "ipython",
    "version": 3
   },
   "file_extension": ".py",
   "mimetype": "text/x-python",
   "name": "python",
   "nbconvert_exporter": "python",
   "pygments_lexer": "ipython3",
   "version": "3.13.7"
  }
 },
 "nbformat": 4,
 "nbformat_minor": 5
}
