{
 "cells": [
  {
   "cell_type": "code",
   "execution_count": null,
   "id": "7abcc121",
   "metadata": {},
   "outputs": [],
   "source": [
    "import json\n",
    "import pandas as pd\n",
    "from pathlib import Path"
   ]
  },
  {
   "cell_type": "code",
   "execution_count": null,
   "id": "84305845",
   "metadata": {},
   "outputs": [],
   "source": [
    "outputs_dir = Path(outputs_dir)\n",
    "data_dir = Path(data_dir)\n",
    "\n",
    "readings_path   = data_dir / \"values.json\"\n",
    "thresholds_path = data_dir / \"threshold.json\"\n",
    "anomalies_path  = outputs_dir / \"anomalies.json\"\n",
    "\n",
    "with open(readings_path, encoding=\"utf-8\") as f:\n",
    "    readings = json.load(f)\n",
    "\n",
    "with open(thresholds_path, \"r\", encoding=\"utf-8\") as f:\n",
    "    thresholds = json.load(f)\n"
   ]
  },
  {
   "cell_type": "code",
   "execution_count": null,
   "id": "035864c0",
   "metadata": {},
   "outputs": [],
   "source": [
    "readings_df = pd.json_normalize(readings[\"pressure_readings\"])\n",
    "\n",
    "readings_df[\"timestamp\"] = pd.to_datetime(readings_df[\"timestamp\"])\n",
    "\n",
    "thr_records = []\n",
    "for k, v in thresholds[\"pressure_thresholds\"].items():\n",
    "    row = {\"component\": k, **v}\n",
    "    thr_records.append(row)\n",
    "thresholds_df = pd.DataFrame(thr_records)\n",
    "\n",
    "alerts = [] \n",
    "\n",
    "# map thresholds\n",
    "thr_map = {\n",
    "    row[\"component\"]: {\"min\": row[\"min\"], \"max\": row[\"max\"], \"units\": row[\"units\"]}\n",
    "    for _, row in thresholds_df.iterrows()\n",
    "}\n",
    "\n",
    "components = [c for c in readings_df.columns if c != \"timestamp\"]\n",
    "\n",
    "for _, row in readings_df.sort_values(\"timestamp\").iterrows():\n",
    "    ts = row[\"timestamp\"].isoformat()\n",
    "    for comp in components:\n",
    "        val = float(row[comp])\n",
    "        min_v = thr_map[comp][\"min\"]\n",
    "        max_v = thr_map[comp][\"max\"]\n",
    "        units = thr_map[comp][\"units\"]\n",
    "        if not (min_v <= val <= max_v):\n",
    "            alerts.append({\n",
    "                \"component\": comp,\n",
    "                \"observed_value\": val,\n",
    "                \"timestamp\": ts,\n",
    "                \"expected_range\": f\"{min_v} - {max_v} {units}\"\n",
    "            })\n",
    "\n",
    "alerts_df = pd.DataFrame(alerts)\n",
    "\n",
    "with open(anomalies_path, \"w\", encoding=\"utf-8\") as f:\n",
    "    json.dump(alerts, f, indent=2, ensure_ascii=False)"
   ]
  }
 ],
 "metadata": {
  "kernelspec": {
   "display_name": ".venv",
   "language": "python",
   "name": "python3"
  },
  "language_info": {
   "codemirror_mode": {
    "name": "ipython",
    "version": 3
   },
   "file_extension": ".py",
   "mimetype": "text/x-python",
   "name": "python",
   "nbconvert_exporter": "python",
   "pygments_lexer": "ipython3",
   "version": "3.13.7"
  }
 },
 "nbformat": 4,
 "nbformat_minor": 5
}
