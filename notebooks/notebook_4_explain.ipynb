{
 "cells": [
  {
   "cell_type": "code",
   "execution_count": null,
   "id": "b6801cc0",
   "metadata": {},
   "outputs": [],
   "source": [
    "from google import genai\n",
    "import os\n",
    "from dotenv import load_dotenv\n",
    "import json\n",
    "from pathlib import Path\n",
    "load_dotenv()\n",
    "client = genai.Client(api_key=os.getenv('GOOGLEAI_API_KEY'))"
   ]
  },
  {
   "cell_type": "code",
   "execution_count": null,
   "id": "76ab697b",
   "metadata": {},
   "outputs": [],
   "source": [
    "outputs_dir = Path(outputs_dir)\n",
    "data_dir = Path(data_dir)\n",
    "\n",
    "readings_path   = data_dir / \"values.json\"\n",
    "thresholds_path = data_dir / \"threshold.json\"\n",
    "anomalies_path  = outputs_dir / \"anomalies.json\"\n",
    "path_edges_path = outputs_dir / \"path_edges.json\"\n",
    "components_path = outputs_dir / \"components.json\"\n",
    "\n",
    "with open(readings_path, encoding=\"utf-8\") as f:\n",
    "    readings = json.load(f)\n",
    "with open(thresholds_path, encoding=\"utf-8\") as f:\n",
    "    thresholds = json.load(f)\n",
    "with open(anomalies_path,  encoding=\"utf-8\") as f:\n",
    "    anomalies = json.load(f)\n",
    "with open(path_edges_path, encoding=\"utf-8\") as f:\n",
    "    path_edges = json.load(f)\n",
    "with open(components_path, encoding=\"utf-8\") as f:\n",
    "    components = json.load(f)"
   ]
  },
  {
   "cell_type": "code",
   "execution_count": null,
   "id": "b54f6f5b",
   "metadata": {},
   "outputs": [],
   "source": [
    "prompt = f\"\"\"\n",
    "You are a PID system diagnostics assistant.\n",
    "\n",
    "Components of the PID system (they are connected with pipes):\n",
    "{json.dumps(components)}\n",
    "Network/connection of components of the PID system:\n",
    "{json.dumps(path_edges)}\n",
    "Anomalies detected:\n",
    "{json.dumps(anomalies)}\n",
    "\n",
    "Task:\n",
    "1. Summarize the system: list components and connections.\n",
    "2. Describe the anomaly detected.\n",
    "3. Explain potential root causes using nearby components. (max 2 reasons)\n",
    "4. Recommend inspection or remediation steps. (max 2 recommendations, keep it simple and clear)\n",
    "\n",
    "Return only plain text.\n",
    "\"\"\""
   ]
  },
  {
   "cell_type": "code",
   "execution_count": null,
   "id": "dce24301",
   "metadata": {},
   "outputs": [
    {
     "data": {
      "text/plain": [
       "3836"
      ]
     },
     "execution_count": 19,
     "metadata": {},
     "output_type": "execute_result"
    }
   ],
   "source": [
    "# Generate diagnosis\n",
    "response = client.models.generate_content(\n",
    "    model='gemini-2.5-flash',\n",
    "    contents=prompt\n",
    ")\n",
    "(outputs_dir / \"diagnosis.md\").write_text(f\"# Diagnosis\\n\\n{response.text}\\n\", encoding=\"utf-8\")\n",
    "print(response.text)\n"
   ]
  }
 ],
 "metadata": {
  "kernelspec": {
   "display_name": ".venv",
   "language": "python",
   "name": "python3"
  },
  "language_info": {
   "codemirror_mode": {
    "name": "ipython",
    "version": 3
   },
   "file_extension": ".py",
   "mimetype": "text/x-python",
   "name": "python",
   "nbconvert_exporter": "python",
   "pygments_lexer": "ipython3",
   "version": "3.13.7"
  }
 },
 "nbformat": 4,
 "nbformat_minor": 5
}
